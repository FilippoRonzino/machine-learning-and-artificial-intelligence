{
 "cells": [
  {
   "cell_type": "code",
   "execution_count": 5,
   "metadata": {},
   "outputs": [],
   "source": [
    "import pandas as pd\n",
    "import matplotlib.pyplot as plt"
   ]
  },
  {
   "cell_type": "code",
   "execution_count": 26,
   "metadata": {},
   "outputs": [],
   "source": [
    "import numpy as np\n",
    "from itertools import permutations\n",
    "from collections import Counter\n",
    "\n",
    "def weighted_permutation_entropy(time_series, order:int=3, delay:int=1) -> float:\n",
    "    \"\"\"\n",
    "    Calculate the weighted permutation entropy for a time series.\n",
    "    \n",
    "    Weighted permutation entropy (WPE) is a measure of complexity that takes into account \n",
    "    the amplitude variations within the ordinal patterns of a time series. It extends \n",
    "    the concept of permutation entropy by weighting each permutation pattern with the \n",
    "    variance of the values forming that pattern.\n",
    "    \n",
    "    Parameters:\n",
    "    -----------\n",
    "    time_series : array-like\n",
    "        The input time series data.\n",
    "    order : int, default=3\n",
    "        The order of permutation entropy (embedding dimension). This determines the \n",
    "        length of patterns to search for in the time series.\n",
    "    delay : int, default=1\n",
    "        The delay between points in the time series when forming patterns (embedding delay).\n",
    "    \n",
    "    Returns:\n",
    "    --------\n",
    "    float\n",
    "        The weighted permutation entropy value. Higher values indicate more complexity\n",
    "        and randomness, while lower values suggest more regularity and predictability.\n",
    "    \"\"\"\n",
    "    if not hasattr(time_series, '__iter__'):\n",
    "        raise ValueError(\"Input time_series must be an iterable (e.g., list, numpy array).\")\n",
    "    if not isinstance(order, int) or order < 1:\n",
    "        raise ValueError(\"Order must be a positive integer.\")\n",
    "    if not isinstance(delay, int) or delay < 1:\n",
    "        raise ValueError(\"Delay must be a positive integer.\")\n",
    "    if len(time_series) < order * delay:\n",
    "        raise ValueError(\"Time series length must be at least order * delay.\")\n",
    "\n",
    "    n = len(time_series)\n",
    "    permutations_list = list(permutations(range(order))) # list of possible permutations of length order\n",
    "    c = Counter() # counter for the occurences of each permutation\n",
    "    weights = {p: 0.0 for p in permutations_list} # weights to compute the WPE instead of the vanilla PE\n",
    "    \n",
    "    for i in range(n - delay * (order - 1)):\n",
    "        window = time_series[i:i + delay * order:delay]\n",
    "        sorted_idx = tuple(np.argsort(window)) # we only care about the ordinal pattern\n",
    "        var = np.var(window) # the weight of each permutation is the variance (following approach from https://doi.org/10.1103/PhysRevE.87.022911)\n",
    "        c[sorted_idx] += 1 # update counter\n",
    "        weights[sorted_idx] += var # add variance to weight\n",
    "\n",
    "    total_weight = sum(weights.values())\n",
    "    if total_weight == 0:\n",
    "        return 0.0 # if variance = 0 we return 0.0 to avoid division by zero\n",
    "\n",
    "    wpe = 0.0\n",
    "    for p in permutations_list:\n",
    "        w = weights[p] / total_weight # normalize weights\n",
    "        # compute entropy term by term\n",
    "        if w > 0:\n",
    "            wpe -= w * np.log2(w)\n",
    "\n",
    "    return wpe / np.log2(len(permutations_list)) # normalize by the number of permutations\n",
    "\n",
    "def wpe_row(row):\n",
    "    return weighted_permutation_entropy(row, order=3, delay=1)"
   ]
  },
  {
   "cell_type": "code",
   "execution_count": 10,
   "metadata": {},
   "outputs": [],
   "source": [
    "harmonic = pd.read_parquet('synthetic_data_parquet/harmonic_dataset.parquet')\n",
    "ou = pd.read_parquet('synthetic_data_parquet/ou_dataset.parquet')"
   ]
  },
  {
   "cell_type": "code",
   "execution_count": null,
   "metadata": {},
   "outputs": [],
   "source": [
    "harmonic_wpe_series = harmonic.apply(wpe_row, axis=0)\n",
    "ou_wpe_series = ou.apply(wpe_row, axis=0)"
   ]
  },
  {
   "cell_type": "code",
   "execution_count": 25,
   "metadata": {},
   "outputs": [
    {
     "data": {
      "image/png": "[encoded data removed]",
      "text/plain": [
       "<Figure size 1000x500 with 1 Axes>"
      ]
     },
     "metadata": {},
     "output_type": "display_data"
    }
   ],
   "source": [
    "plt.figure(figsize=(10, 5))\n",
    "plt.hist(harmonic_wpe_series, bins=30, alpha=0.5, label='Harmonic')\n",
    "plt.hist(ou_wpe_series, bins=30, alpha=0.5, label='Ornstein-Uhlenbeck')\n",
    "plt.title('Weighted Permutation Entropy Distribution')\n",
    "plt.xlabel('Weighted Permutation Entropy')\n",
    "plt.ylabel('Frequency')\n",
    "plt.legend()\n",
    "plt.show()"
   ]
  },
  {
   "cell_type": "code",
   "execution_count": 20,
   "metadata": {},
   "outputs": [
    {
     "data": {
      "text/plain": [
       "True"
      ]
     },
     "execution_count": 20,
     "metadata": {},
     "output_type": "execute_result"
    }
   ],
   "source": [
    "square = np.ones((10,10))\n",
    "\n",
    "hasattr(square, '__iter__')"
   ]
  }
 ],
 "metadata": {
  "kernelspec": {
   "display_name": "deep-learning-course",
   "language": "python",
   "name": "python3"
  },
  "language_info": {
   "codemirror_mode": {
    "name": "ipython",
    "version": 3
   },
   "file_extension": ".py",
   "mimetype": "text/x-python",
   "name": "python",
   "nbconvert_exporter": "python",
   "pygments_lexer": "ipython3",
   "version": "3.12.9"
  }
 },
 "nbformat": 4,
 "nbformat_minor": 2
}
