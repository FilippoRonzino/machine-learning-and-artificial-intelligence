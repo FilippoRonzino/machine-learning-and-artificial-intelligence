{
 "cells": [
  {
   "cell_type": "code",
   "execution_count": 3,
   "metadata": {},
   "outputs": [],
   "source": [
    "import pandas as pd"
   ]
  },
  {
   "cell_type": "code",
   "execution_count": 4,
   "metadata": {},
   "outputs": [],
   "source": [
    "harmonic = pd.read_parquet('synthetic_data_parquet/harmonic_dataset.parquet')"
   ]
  },
  {
   "cell_type": "code",
   "execution_count": 1,
   "metadata": {},
   "outputs": [],
   "source": [
    "import numpy as np\n",
    "from PIL import Image, ImageDraw\n",
    "\n",
    "def draw_line(data, size: int = 80) -> Image:\n",
    "    '''\n",
    "    Draws a line graph from the data and normalizes each column to sum to 255.\n",
    "\n",
    "    Parameters:\n",
    "    -----------\n",
    "    data: array-like\n",
    "        The data to be plotted. It should be a 1D array or list.\n",
    "    size: int\n",
    "        The side size of the image to be created. Default is 80.\n",
    "    \n",
    "    Returns:\n",
    "    -----------\n",
    "    Image\n",
    "        A PIL Image object representing the line graph.\n",
    "    '''\n",
    "\n",
    "    if not hasattr(data, '__iter__'):\n",
    "        raise ValueError(\"Input data must be an iterable (e.g., list, numpy array).\")\n",
    "    if len(data) == 0:\n",
    "        raise ValueError(\"Input data cannot be empty.\")\n",
    "    if not isinstance(size, int) or size <= 0:\n",
    "        raise ValueError(\"Size must be a positive integer.\")\n",
    "    \n",
    "    data = np.array(data)\n",
    "\n",
    "    if data.ndim != 1:\n",
    "        raise ValueError(\"Input data must be a 1D array.\")\n",
    "\n",
    "    x_vals = np.linspace(0, size - 1, len(data))\n",
    "    y_min, y_max = np.min(data), np.max(data)\n",
    "    y_vals = (1 - (data - y_min) / (y_max - y_min)) * (size - 1)\n",
    "    img = Image.new(\"L\", (size, size), \"black\")\n",
    "    draw = ImageDraw.Draw(img)\n",
    "\n",
    "    for i in range(len(x_vals) - 1):\n",
    "        x1, y1 = x_vals[i], y_vals[i]\n",
    "        x2, y2 = x_vals[i + 1], y_vals[i + 1]\n",
    "        draw.line((x1, y1, x2, y2), fill=\"white\")\n",
    "    \n",
    "    arr = np.array(img)\n",
    "    normalized_arr = np.uint8((arr / arr.sum(axis=0))*254) + 1\n",
    "\n",
    "    normalized_img = Image.fromarray(normalized_arr, 'L')\n",
    "    return normalized_img"
   ]
  },
  {
   "cell_type": "code",
   "execution_count": 8,
   "metadata": {},
   "outputs": [],
   "source": [
    "draw_line(harmonic.loc[50], 80).show()"
   ]
  },
  {
   "cell_type": "code",
   "execution_count": 66,
   "metadata": {},
   "outputs": [
    {
     "data": {
      "text/plain": [
       "dtype('int64')"
      ]
     },
     "execution_count": 66,
     "metadata": {},
     "output_type": "execute_result"
    }
   ],
   "source": [
    "np.array([1,2,3,4,5]).dtype"
   ]
  }
 ],
 "metadata": {
  "kernelspec": {
   "display_name": "deep-learning-course",
   "language": "python",
   "name": "python3"
  },
  "language_info": {
   "codemirror_mode": {
    "name": "ipython",
    "version": 3
   },
   "file_extension": ".py",
   "mimetype": "text/x-python",
   "name": "python",
   "nbconvert_exporter": "python",
   "pygments_lexer": "ipython3",
   "version": "3.12.9"
  }
 },
 "nbformat": 4,
 "nbformat_minor": 2
}
