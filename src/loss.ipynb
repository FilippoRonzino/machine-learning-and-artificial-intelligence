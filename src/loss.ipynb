{
 "cells": [
  {
   "cell_type": "code",
   "execution_count": 24,
   "id": "206ab45a",
   "metadata": {},
   "outputs": [],
   "source": [
    "import pandas as pd"
   ]
  },
  {
   "cell_type": "code",
   "execution_count": 25,
   "id": "4187d06e",
   "metadata": {},
   "outputs": [],
   "source": [
    "harmonic = pd.read_parquet('../data/synthetic_data_parquet/harmonic_dataset.parquet')"
   ]
  },
  {
   "cell_type": "code",
   "execution_count": 26,
   "id": "36048d53",
   "metadata": {},
   "outputs": [],
   "source": [
    "import numpy as np\n",
    "from PIL import Image, ImageDraw\n",
    "\n",
    "def draw_line(data, size: int = 80) -> Image:\n",
    "    '''\n",
    "    Draws a line graph from the data and normalizes each column to sum to 255.\n",
    "\n",
    "    Parameters:\n",
    "    -----------\n",
    "    data: array-like\n",
    "        The data to be plotted. It should be a 1D array or list.\n",
    "    size: int\n",
    "        The side size of the image to be created. Default is 80.\n",
    "    \n",
    "    Returns:\n",
    "    -----------\n",
    "    Image\n",
    "        A PIL Image object representing the line graph.\n",
    "    '''\n",
    "\n",
    "    if not hasattr(data, '__iter__'):\n",
    "        raise ValueError(\"Input data must be an iterable (e.g., list, numpy array).\")\n",
    "    if len(data) == 0:\n",
    "        raise ValueError(\"Input data cannot be empty.\")\n",
    "    if not isinstance(size, int) or size <= 0:\n",
    "        raise ValueError(\"Size must be a positive integer.\")\n",
    "    \n",
    "    data = np.array(data)\n",
    "\n",
    "    if data.ndim != 1:\n",
    "        raise ValueError(\"Input data must be a 1D array.\")\n",
    "\n",
    "    x_vals = np.linspace(0, size - 1, len(data))\n",
    "    y_min, y_max = np.min(data), np.max(data)\n",
    "    y_vals = (1 - (data - y_min) / (y_max - y_min)) * (size - 1)\n",
    "    img = Image.new(\"L\", (size, size), \"black\")\n",
    "    draw = ImageDraw.Draw(img)\n",
    "\n",
    "    for i in range(len(x_vals) - 1):\n",
    "        x1, y1 = x_vals[i], y_vals[i]\n",
    "        x2, y2 = x_vals[i + 1], y_vals[i + 1]\n",
    "        draw.line((x1, y1, x2, y2), fill=\"white\")\n",
    "    \n",
    "    arr = np.array(img)\n",
    "    normalized_arr = np.uint8((arr / arr.sum(axis=0))*254) + 1\n",
    "\n",
    "    normalized_img = Image.fromarray(normalized_arr, 'L')\n",
    "    return normalized_img"
   ]
  },
  {
   "cell_type": "code",
   "execution_count": 38,
   "id": "7e444eb9",
   "metadata": {},
   "outputs": [],
   "source": [
    "img1 = draw_line(harmonic.loc[50], 80)\n",
    "img2 = draw_line(harmonic.loc[51], 80)"
   ]
  },
  {
   "cell_type": "code",
   "execution_count": null,
   "id": "352aca07",
   "metadata": {},
   "outputs": [],
   "source": [
    "import numpy as np\n",
    "from PIL import Image\n",
    "from scipy.stats import entropy\n",
    "\n",
    "def image_to_array(image: Image) -> np.ndarray:\n",
    "    \"\"\"Convert a PIL Image to a NumPy array.\"\"\"\n",
    "    return np.array(image) / 255.0\n",
    "\n",
    "def calculate_loss(img1: Image, img2: Image) -> float:\n",
    "    \"\"\"Calculate the loss between two images using KL divergence.\"\"\"\n",
    "    if not isinstance(img1, Image.Image) or not isinstance(img2, Image.Image):\n",
    "        raise ValueError(\"Both inputs must be PIL Image objects.\")\n",
    "    if img1.size != img2.size:\n",
    "        raise ValueError(\"Images must have the same dimensions.\")\n",
    "    if img1.mode != 'L' or img2.mode != 'L':\n",
    "        raise ValueError(\"Images must be in grayscale mode ('L').\")\n",
    "    \n",
    "    arr1 = image_to_array(img1)\n",
    "    arr2 = image_to_array(img2)\n",
    "\n",
    "    l = 0.0\n",
    "\n",
    "    for i in range(arr1.shape[1]):\n",
    "        kl_div = entropy(arr1[:, i], arr2[:, i])\n",
    "        l += kl_div\n",
    "        \n",
    "    return l"
   ]
  },
  {
   "cell_type": "code",
   "execution_count": 42,
   "id": "46683b98",
   "metadata": {},
   "outputs": [
    {
     "data": {
      "text/plain": [
       "(80, 80)"
      ]
     },
     "execution_count": 42,
     "metadata": {},
     "output_type": "execute_result"
    }
   ],
   "source": [
    "image_to_array(img1).shape"
   ]
  },
  {
   "cell_type": "code",
   "execution_count": 47,
   "id": "1ba9acbd",
   "metadata": {},
   "outputs": [
    {
     "data": {
      "text/plain": [
       "np.float64(0.0)"
      ]
     },
     "execution_count": 47,
     "metadata": {},
     "output_type": "execute_result"
    }
   ],
   "source": [
    "calculate_loss(img1, img1)"
   ]
  },
  {
   "cell_type": "code",
   "execution_count": 36,
   "id": "d2fa9ff1",
   "metadata": {},
   "outputs": [
    {
     "data": {
      "text/plain": [
       "array([ 0.        ,  0.        ,  0.        ,  0.        ,  0.        ,\n",
       "        0.        ,  0.        ,  0.        , -0.19607843, -0.19607843,\n",
       "       -0.03137255, -0.03137255, -0.03137255,  0.16470588,  0.16470588,\n",
       "        0.16470588,  0.        ,  0.        ,  0.        ,  0.        ,\n",
       "        0.        ,  0.        ,  0.        ,  0.        ,  0.        ,\n",
       "        0.        ,  0.        ,  0.        ,  0.        ,  0.        ,\n",
       "        0.        ,  0.        ,  0.        ,  0.        ,  0.        ,\n",
       "        0.        ,  0.        ,  0.        ,  0.        ,  0.        ,\n",
       "        0.        ,  0.        ,  0.        ,  0.        ,  0.        ,\n",
       "        0.        ,  0.        ,  0.        ,  0.        ,  0.        ,\n",
       "        0.        ,  0.        ,  0.        ,  0.        ,  0.        ,\n",
       "        0.        ,  0.        ,  0.        ,  0.        ,  0.        ,\n",
       "        0.        ,  0.        ,  0.        ,  0.        ,  0.        ,\n",
       "        0.        ,  0.        ,  0.        ,  0.        ,  0.        ,\n",
       "        0.        ,  0.        ,  0.        ,  0.        ,  0.        ,\n",
       "        0.        ,  0.        ,  0.        ,  0.        ,  0.        ])"
      ]
     },
     "execution_count": 36,
     "metadata": {},
     "output_type": "execute_result"
    }
   ],
   "source": [
    "arr1 - arr2"
   ]
  }
 ],
 "metadata": {
  "kernelspec": {
   "display_name": "deep-learning-course",
   "language": "python",
   "name": "python3"
  },
  "language_info": {
   "codemirror_mode": {
    "name": "ipython",
    "version": 3
   },
   "file_extension": ".py",
   "mimetype": "text/x-python",
   "name": "python",
   "nbconvert_exporter": "python",
   "pygments_lexer": "ipython3",
   "version": "3.12.9"
  }
 },
 "nbformat": 4,
 "nbformat_minor": 5
}
